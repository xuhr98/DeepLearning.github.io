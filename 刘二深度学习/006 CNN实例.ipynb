{
 "cells": [
  {
   "cell_type": "code",
   "execution_count": null,
   "id": "c00c1122",
   "metadata": {},
   "outputs": [],
   "source": [
    "import torch\n",
    "from torchvision import transforms,datasets  #transform针对图像处理\n",
    "from torch.utils.data import DataLoader\n",
    "import torch.nn.functional as F\n",
    "import torch.optim as optim\n"
   ]
  },
  {
   "cell_type": "code",
   "execution_count": null,
   "id": "ce371e68",
   "metadata": {},
   "outputs": [],
   "source": [
    "#1 prepare dataset\n",
    "batch_size = 64\n",
    "transform = transforms.Compose([\n",
    " transforms.ToTensor(),\n",
    " transforms.Normalize((0.1307, ), (0.3081, )) #把图像转化成张量，并且将其标准化使得成为一个N(0,1)的张量\n",
    "])\n",
    "train_dataset = datasets.MNIST(root='../dataset/mnist/',\n",
    "train=True,\n",
    "download=True,\n",
    "transform=transform)\n",
    "\n",
    "train_loader = DataLoader(train_dataset,\n",
    "shuffle=True,\n",
    "batch_size=batch_size)\n",
    "\n",
    "test_dataset = datasets.MNIST(root='../dataset/mnist/',\n",
    "train=False,\n",
    "download=True,\n",
    "transform=transform)\n",
    "\n",
    "test_loader = DataLoader(test_dataset,\n",
    "shuffle=False,\n",
    "batch_size=batch_size)\n",
    "\n",
    "#至此，完成了图像载入，并且把图像转化成为适合NN训练的N（0，1）的张量"
   ]
  },
  {
   "cell_type": "code",
   "execution_count": 1,
   "id": "c576366c",
   "metadata": {},
   "outputs": [
    {
     "name": "stdout",
     "output_type": "stream",
     "text": [
      "torch.Size([1, 5, 100, 100])\n",
      "torch.Size([1, 10, 98, 98])\n",
      "torch.Size([10, 5, 3, 3])\n"
     ]
    }
   ],
   "source": [
    "import torch\n",
    "\n",
    "in_channels, out_channels= 5, 10\n",
    "width, height = 100, 100\n",
    "kernel_size = 3\n",
    "batch_size = 1\n",
    "\n",
    "input = torch.randn(batch_size,in_channels,width, height)\n",
    "\n",
    "conv_layer = torch.nn.Conv2d(in_channels,out_channels,kernel_size=kernel_size)\n",
    "output = conv_layer(input)\n",
    "\n",
    "print(input.shape)\n",
    "print(output.shape)\n",
    "print(conv_layer.weight.shape) #卷积核形状"
   ]
  }
 ],
 "metadata": {
  "kernelspec": {
   "display_name": "DeepL",
   "language": "python",
   "name": "deepl"
  },
  "language_info": {
   "codemirror_mode": {
    "name": "ipython",
    "version": 3
   },
   "file_extension": ".py",
   "mimetype": "text/x-python",
   "name": "python",
   "nbconvert_exporter": "python",
   "pygments_lexer": "ipython3",
   "version": "3.9.17"
  }
 },
 "nbformat": 4,
 "nbformat_minor": 5
}
