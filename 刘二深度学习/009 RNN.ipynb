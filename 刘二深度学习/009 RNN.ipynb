{
 "cells": [
  {
   "cell_type": "code",
   "execution_count": 1,
   "id": "14576c05",
   "metadata": {},
   "outputs": [
    {
     "data": {
      "text/plain": [
       "\"\\n#此时out也是一个【1,4】向量，例如[0.8,0.5,0.2,0.1]，进行softmax-NLLLoss-one-hot(crossentropy)\\n\\n\\nhidden = torch.zeros(num_layers, batch_size, hidden_size) #单个rnn cell中rnn层数，批次，2个隐藏层数据\\n\\nout, hidden = cell(inputs, hidden)\\n\\nprint('Output size:', out.shape) \\nprint('Output:', out)\\nprint('Hidden size: ', hidden.shape)\\nprint('Hidden: ', hidden)\\n\""
      ]
     },
     "execution_count": 1,
     "metadata": {},
     "output_type": "execute_result"
    }
   ],
   "source": [
    "\n",
    "#construction of RNN\n",
    "'''\n",
    "batch_size = 1\n",
    "seq_len = 3\n",
    "input_size = 4\n",
    "hidden_size = 2\n",
    "num_layers = 1\n",
    "\n",
    "cell = torch.nn.RNN(input_size=input_size, hidden_size=hidden_size,num_layers=num_layers) #rnn实现\n",
    "#补充：batch_first=True 交换seqlen和batchsize，方便构造数据集\n",
    "\n",
    "# (seqLen, batchSize, inputSize)\n",
    "inputs = torch.randn(seq_len, batch_size, input_size) #3,1,4-----x1,x2,x3三种特征，1批次，4天的x1(或x2,x3)数据\n",
    "#例二 hello->ohlol seq=5,batchsize=1,inputsize=4 单词长度5个字母，单词出现4个字母，每个字母给出数字代表\n",
    "# e=0 h=1 l=2 o=3 则hello转化为[1,0,2,2,3],再转化为矩阵(one-hot encoding)\n",
    "'''\n",
    "[0,1,0,0]\n",
    "[1,0,0,0]\n",
    "[0,0,1,0]\n",
    "[0,0,1,0]\n",
    "[0,0,0,1]\n",
    "'''\n",
    "#此时out也是一个【1,4】向量，例如[0.8,0.5,0.2,0.1]，进行softmax-NLLLoss-one-hot(crossentropy)\n",
    "\n",
    "\n",
    "hidden = torch.zeros(num_layers, batch_size, hidden_size) #单个rnn cell中rnn层数，批次，2个隐藏层数据\n",
    "\n",
    "out, hidden = cell(inputs, hidden)\n",
    "\n",
    "print('Output size:', out.shape) \n",
    "print('Output:', out)\n",
    "print('Hidden size: ', hidden.shape)\n",
    "print('Hidden: ', hidden)\n",
    "'''"
   ]
  },
  {
   "cell_type": "code",
   "execution_count": 2,
   "id": "8597e255",
   "metadata": {},
   "outputs": [
    {
     "name": "stdout",
     "output_type": "stream",
     "text": [
      "[[0, 1, 0, 0], [1, 0, 0, 0], [0, 0, 1, 0], [0, 0, 1, 0], [0, 0, 0, 1]]\n"
     ]
    }
   ],
   "source": [
    "#hello-ohlol实战\n",
    "\n",
    "import torch\n",
    "batch_size = 1\n",
    "input_size = 4\n",
    "hidden_size = 4\n",
    "\n",
    "#01 prepare dataset\n",
    "idx2char = ['e', 'h', 'l', 'o']\n",
    "x_data = [1, 0, 2, 2, 3]\n",
    "y_data = [3, 1, 2, 3, 2]\n",
    "one_hot_lookup = [[1, 0, 0, 0],\n",
    "[0, 1, 0, 0],\n",
    "[0, 0, 1, 0],\n",
    "[0, 0, 0, 1]]\n",
    "x_one_hot = [one_hot_lookup[x] for x in x_data] #x_one_hot在此处是一个one_hot列表，5*4\n",
    "inputs = torch.Tensor(x_one_hot).view(-1, batch_size, input_size)\n",
    "labels = torch.LongTensor(y_data).view(-1, 1) #-1维度为seqlen\n",
    "\n",
    "print(x_one_hot)"
   ]
  },
  {
   "cell_type": "code",
   "execution_count": 3,
   "id": "fba2f7a9",
   "metadata": {},
   "outputs": [],
   "source": [
    "#02 design model\n",
    "class Model(torch.nn.Module):\n",
    "    def __init__(self, input_size, hidden_size, batch_size):\n",
    "        super(Model, self).__init__()\n",
    "        self.batch_size = batch_size\n",
    "        self.input_size = input_size\n",
    "        self.hidden_size = hidden_size\n",
    "        self.rnncell = torch.nn.RNNCell(input_size=self.input_size, hidden_size=self.hidden_size)\n",
    "        \n",
    "    def forward(self, input, hidden):                  \n",
    "        hidden = self.rnncell(input, hidden)\n",
    "        return hidden\n",
    "    \n",
    "    def init_hidden(self):                               #h0初始化\n",
    "        return torch.zeros(self.batch_size, self.hidden_size)\n",
    "    \n",
    "net = Model(input_size, hidden_size, batch_size)"
   ]
  },
  {
   "cell_type": "code",
   "execution_count": 4,
   "id": "b898f4fe",
   "metadata": {},
   "outputs": [],
   "source": [
    "#03 loss and optimizer\n",
    "criterion = torch.nn.CrossEntropyLoss()\n",
    "optimizer = torch.optim.Adam(net.parameters(), lr=0.1)"
   ]
  },
  {
   "cell_type": "code",
   "execution_count": 5,
   "id": "23590ada",
   "metadata": {},
   "outputs": [
    {
     "name": "stdout",
     "output_type": "stream",
     "text": [
      "Predicted string: eoooe, Epoch [1/15] loss=7.3975\n",
      "Predicted string: lllll, Epoch [2/15] loss=6.2772\n",
      "Predicted string: lllll, Epoch [3/15] loss=5.7591\n",
      "Predicted string: lhlll, Epoch [4/15] loss=5.2099\n",
      "Predicted string: lhlll, Epoch [5/15] loss=4.6142\n",
      "Predicted string: lhlll, Epoch [6/15] loss=4.0999\n",
      "Predicted string: ohlol, Epoch [7/15] loss=3.7622\n",
      "Predicted string: ohlol, Epoch [8/15] loss=3.5307\n",
      "Predicted string: ohlol, Epoch [9/15] loss=3.3202\n",
      "Predicted string: ohlol, Epoch [10/15] loss=3.0891\n",
      "Predicted string: ohlol, Epoch [11/15] loss=2.8509\n",
      "Predicted string: ohlol, Epoch [12/15] loss=2.6570\n",
      "Predicted string: ohlol, Epoch [13/15] loss=2.5214\n",
      "Predicted string: ohlol, Epoch [14/15] loss=2.4218\n",
      "Predicted string: ohlol, Epoch [15/15] loss=2.3411\n"
     ]
    }
   ],
   "source": [
    "#04 training cycle\n",
    "for epoch in range(15):\n",
    "    loss = 0\n",
    "    optimizer.zero_grad()\n",
    "    hidden = net.init_hidden()\n",
    "    print('Predicted string: ', end='')\n",
    "    for input, label in zip(inputs, labels): #inputs和labels配对，input[batchsize,inputsize],而inputs[seqlen,batchsize,inputsize]\n",
    "        hidden = net(input, hidden)\n",
    "        loss += criterion(hidden, label)    #不可加.item，因为RNN是循环神经网络，一直在构建计算图\n",
    "        _, idx = hidden.max(dim=1)          #hidden[batchsize,hidden_size],取每个batch中hidden_size中最大值\n",
    "        print(idx2char[idx.item()], end='')\n",
    "    loss.backward()\n",
    "    optimizer.step()\n",
    "    print(', Epoch [%d/15] loss=%.4f' % (epoch+1, loss.item()))"
   ]
  },
  {
   "cell_type": "code",
   "execution_count": null,
   "id": "c096fc41",
   "metadata": {},
   "outputs": [],
   "source": [
    "#05 改进\n",
    "\n",
    "'''\n",
    "one-hot缺点\n",
    "1 The one-hot vectors are high-dimension. 例如10000个英语单词，则需要10000维\n",
    "2 The one-hot vectors are sparse. 所有点集中在坐标轴，【，，，，】中只有一个为1，其他全0\n",
    "3 The one-hot vectors are hardcode 硬编码，非学习\n",
    "\n",
    "使用embedding "
   ]
  }
 ],
 "metadata": {
  "kernelspec": {
   "display_name": "DeepL",
   "language": "python",
   "name": "deepl"
  },
  "language_info": {
   "codemirror_mode": {
    "name": "ipython",
    "version": 3
   },
   "file_extension": ".py",
   "mimetype": "text/x-python",
   "name": "python",
   "nbconvert_exporter": "python",
   "pygments_lexer": "ipython3",
   "version": "3.9.17"
  }
 },
 "nbformat": 4,
 "nbformat_minor": 5
}
