{
 "cells": [
  {
   "cell_type": "code",
   "execution_count": null,
   "id": "1cc683c5",
   "metadata": {},
   "outputs": [],
   "source": [
    "#项目内容：从名字判断国籍\n",
    "\n"
   ]
  },
  {
   "cell_type": "code",
   "execution_count": null,
   "id": "3d748099",
   "metadata": {},
   "outputs": [],
   "source": [
    "#01 prepare dataset"
   ]
  }
 ],
 "metadata": {
  "kernelspec": {
   "display_name": "DeepL",
   "language": "python",
   "name": "deepl"
  },
  "language_info": {
   "codemirror_mode": {
    "name": "ipython",
    "version": 3
   },
   "file_extension": ".py",
   "mimetype": "text/x-python",
   "name": "python",
   "nbconvert_exporter": "python",
   "pygments_lexer": "ipython3",
   "version": "3.9.17"
  }
 },
 "nbformat": 4,
 "nbformat_minor": 5
}
